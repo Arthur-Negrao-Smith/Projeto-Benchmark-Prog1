{
 "cells": [
  {
   "cell_type": "markdown",
   "metadata": {},
   "source": [
    "# Arquivo de coleta de dados do BenchMark"
   ]
  },
  {
   "cell_type": "markdown",
   "metadata": {},
   "source": [
    "## Atualizando o path do sistema"
   ]
  },
  {
   "cell_type": "code",
   "execution_count": null,
   "metadata": {},
   "outputs": [],
   "source": [
    "import os\n",
    "import sys\n",
    "\n",
    "current_dir: str = os.path.abspath(\"../../..\")\n",
    "if current_dir not in sys.path:\n",
    "    sys.path.insert(0, current_dir)\n",
    "print(sys.path)\n"
   ]
  },
  {
   "cell_type": "markdown",
   "metadata": {},
   "source": [
    "## Importando as bibliotecas internas"
   ]
  },
  {
   "cell_type": "code",
   "execution_count": null,
   "metadata": {},
   "outputs": [],
   "source": [
    "from src.python.libs.benchmark.data import (BenchMetrics,\n",
    "                                            FIRST_ORDER, SECOND_ORDER, THIRD_ORDER, FOURTH_ORDER, \n",
    "                                            FIRST_SIZE, SECOND_SIZE, THIRD_SIZE, FOURTH_SIZE,\n",
    "                                            BUBBLE_NAME, MERGE_NAME, QUICK_NAME)\n",
    "\n",
    "from src.python.libs.order_algorithms.bubble_sort import BubbleSort\n",
    "from src.python.libs.order_algorithms.merge_sort import MergeSort\n",
    "from src.python.libs.order_algorithms.quick_sort import QuickSort\n",
    "\n",
    "from src.python.libs.graphics.graphic_generator import GraphicData, GraphicGenerator"
   ]
  },
  {
   "cell_type": "markdown",
   "metadata": {},
   "source": [
    "## Importando as bibliotecas externas"
   ]
  },
  {
   "cell_type": "code",
   "execution_count": null,
   "metadata": {},
   "outputs": [],
   "source": [
    "from typing import Union\n",
    "import pandas as pd"
   ]
  },
  {
   "cell_type": "markdown",
   "metadata": {},
   "source": [
    "## Criando a função para rodar as simulações"
   ]
  },
  {
   "cell_type": "code",
   "execution_count": null,
   "metadata": {},
   "outputs": [],
   "source": [
    "def simulation() -> GraphicData:\n",
    "    bubble: BubbleSort=  BubbleSort()\n",
    "    merge: MergeSort = MergeSort()\n",
    "    quick: QuickSort = QuickSort()\n",
    "    graphic_data: GraphicData = GraphicData()\n",
    "    for algorithm in [bubble, merge, quick]:\n",
    "        for size in [1, 2, 3, 4]:\n",
    "            for order in [FIRST_ORDER, SECOND_ORDER, THIRD_ORDER, FOURTH_ORDER]:\n",
    "                metrics: BenchMetrics = BenchMetrics()\n",
    "                metrics.data_type = order\n",
    "                algorithm.data_generator(size, order)\n",
    "                metrics = algorithm.benchmarkSort(metrics)\n",
    "                print(f\"\"\"\n",
    "                    -------------------------------------------\n",
    "                    Algoritmo: {metrics.algorithm_name}\n",
    "                    Ordem: {metrics.data_type}\n",
    "                    Tamanho: {metrics.list_size}\n",
    "                    Tempo: {metrics.execution_time}\n",
    "                    Memoria: {metrics.memory_usage[1] - metrics.memory_usage[0]}\n",
    "                    Comparações: {metrics.comparations}\n",
    "                    Trocas: {metrics.swaps}\n",
    "                    -------------------------------------------\n",
    "                \"\"\")\n",
    "                graphic_data.insert_data(metrics)\n",
    "    \n",
    "    return graphic_data"
   ]
  },
  {
   "cell_type": "markdown",
   "metadata": {},
   "source": [
    "## Rodando as simulações"
   ]
  },
  {
   "cell_type": "code",
   "execution_count": null,
   "metadata": {},
   "outputs": [],
   "source": [
    "graphic_data: GraphicData = simulation()\n",
    "print(graphic_data)"
   ]
  }
 ],
 "metadata": {
  "kernelspec": {
   "display_name": "Projeto-Benchmark",
   "language": "python",
   "name": "python3"
  },
  "language_info": {
   "codemirror_mode": {
    "name": "ipython",
    "version": 3
   },
   "file_extension": ".py",
   "mimetype": "text/x-python",
   "name": "python",
   "nbconvert_exporter": "python",
   "pygments_lexer": "ipython3",
   "version": "3.12.9"
  }
 },
 "nbformat": 4,
 "nbformat_minor": 2
}
