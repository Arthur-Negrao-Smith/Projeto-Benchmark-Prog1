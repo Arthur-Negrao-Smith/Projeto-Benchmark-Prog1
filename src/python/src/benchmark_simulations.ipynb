{
 "cells": [
  {
   "cell_type": "markdown",
   "metadata": {},
   "source": [
    "# Arquivo de coleta de dados do BenchMark"
   ]
  },
  {
   "cell_type": "markdown",
   "metadata": {},
   "source": [
    "## Atualizando o path do sistema"
   ]
  },
  {
   "cell_type": "code",
   "execution_count": null,
   "metadata": {},
   "outputs": [],
   "source": [
    "import os\n",
    "import sys\n",
    "\n",
    "current_dir: str = os.path.abspath(\"../../..\")\n",
    "if current_dir not in sys.path:\n",
    "    sys.path.insert(0, current_dir)\n",
    "print(sys.path)\n"
   ]
  },
  {
   "cell_type": "markdown",
   "metadata": {},
   "source": [
    "## Importando as bibliotecas internas"
   ]
  },
  {
   "cell_type": "code",
   "execution_count": null,
   "metadata": {},
   "outputs": [],
   "source": [
    "from src.python.libs.benchmark.data import (BenchMetrics,\n",
    "                                            FIRST_ORDER, SECOND_ORDER, THIRD_ORDER, FOURTH_ORDER, \n",
    "                                            FIRST_SIZE, SECOND_SIZE, THIRD_SIZE, FOURTH_SIZE,\n",
    "                                            BUBBLE_NAME, MERGE_NAME, QUICK_NAME)\n",
    "\n",
    "from src.python.libs.order_algorithms.bubble_sort import BubbleSort\n",
    "from src.python.libs.order_algorithms.merge_sort import MergeSort\n",
    "from src.python.libs.order_algorithms.quick_sort import QuickSort\n",
    "\n",
    "from src.python.libs.graphics.graphic_generator import GraphicData, GraphicGenerator"
   ]
  },
  {
   "cell_type": "markdown",
   "metadata": {},
   "source": [
    "## Importando as bibliotecas externas"
   ]
  },
  {
   "cell_type": "code",
   "execution_count": null,
   "metadata": {},
   "outputs": [],
   "source": [
    "import pandas as pd"
   ]
  },
  {
   "cell_type": "markdown",
   "metadata": {},
   "source": [
    "## Definindo algumas constantes"
   ]
  },
  {
   "cell_type": "code",
   "execution_count": null,
   "metadata": {},
   "outputs": [],
   "source": [
    "PATH: str = \"../../results/data\""
   ]
  },
  {
   "cell_type": "markdown",
   "metadata": {},
   "source": [
    "## Criando a função para rodar as simulações"
   ]
  },
  {
   "cell_type": "code",
   "execution_count": null,
   "metadata": {},
   "outputs": [],
   "source": [
    "def simulation(algorithms: list[str]) -> GraphicData:\n",
    "    graphic_data: GraphicData = GraphicData()\n",
    "\n",
    "    for algorithm_name in algorithms:\n",
    "\n",
    "        for size in range(1, 5):\n",
    "\n",
    "            for order in [FIRST_ORDER, SECOND_ORDER, THIRD_ORDER, FOURTH_ORDER]:\n",
    "\n",
    "                metrics: BenchMetrics = BenchMetrics() # Generate BenchMetrics\n",
    "\n",
    "                if algorithm_name == BUBBLE_NAME:\n",
    "                    algorithm = BubbleSort()\n",
    "\n",
    "                elif algorithm_name == MERGE_NAME:\n",
    "                    algorithm = MergeSort()\n",
    "                    \n",
    "                elif algorithm_name == QUICK_NAME:\n",
    "                    algorithm = QuickSort()\n",
    "\n",
    "                algorithm.data_generator(size=size, data_type=order)\n",
    "                \n",
    "                if ((algorithm_name == BUBBLE_NAME and size == FOURTH_SIZE and \n",
    "                     not (order == FIRST_ORDER)) or (algorithm_name == QUICK_NAME and\n",
    "                        order == FOURTH_ORDER and size == FOURTH_SIZE)):\n",
    "                    # Pela quantidade muito alta de tempo que leva nesse algoritmos,\n",
    "                    # torna-se inviável roda-los utilizando QuickSort e BubbleSort,\n",
    "                    # pois, no pior dos casos, ambos tem complexidade de O(n^2).\n",
    "                    # Optou-se por não medir o Bubble sort com 10^6, por demorar dias\n",
    "                    # para a sua conclusão.\n",
    "                    continue\n",
    "\n",
    "                metrics = algorithm.benchmarkSort(metrics)\n",
    "                print(f\"\"\"\n",
    "                -------------------------------------------\n",
    "                Algoritmo: {metrics.algorithm_name}\n",
    "                Ordem: {metrics.data_type}\n",
    "                Tamanho: {metrics.list_size}\n",
    "                Tempo: {metrics.execution_time}\n",
    "                Memoria: {metrics.memory_usage[1] - metrics.memory_usage[0]}\n",
    "                Comparações: {metrics.comparations}\n",
    "                Trocas: {metrics.swaps}\n",
    "                -------------------------------------------\n",
    "                \"\"\")\n",
    "                graphic_data.insert_data(metrics)\n",
    "        graphic_data.save_as_csv(PATH, algorithm_to_save=algorithm_name)\n",
    "\n",
    "    return graphic_data"
   ]
  },
  {
   "cell_type": "markdown",
   "metadata": {},
   "source": [
    "## Rodando as simulações"
   ]
  },
  {
   "cell_type": "code",
   "execution_count": null,
   "metadata": {},
   "outputs": [],
   "source": [
    "algorithms: list[str] = [MERGE_NAME, QUICK_NAME, BUBBLE_NAME]\n",
    "graphic_data: GraphicData = simulation(algorithms=algorithms)"
   ]
  },
  {
   "cell_type": "markdown",
   "metadata": {},
   "source": [
    "## Mostrando os resultados das simulações"
   ]
  },
  {
   "cell_type": "code",
   "execution_count": null,
   "metadata": {},
   "outputs": [],
   "source": [
    "print(graphic_data)"
   ]
  }
 ],
 "metadata": {
  "kernelspec": {
   "display_name": "Projeto-Benchmark",
   "language": "python",
   "name": "python3"
  },
  "language_info": {
   "codemirror_mode": {
    "name": "ipython",
    "version": 3
   },
   "file_extension": ".py",
   "mimetype": "text/x-python",
   "name": "python",
   "nbconvert_exporter": "python",
   "pygments_lexer": "ipython3",
   "version": "3.12.9"
  }
 },
 "nbformat": 4,
 "nbformat_minor": 2
}
