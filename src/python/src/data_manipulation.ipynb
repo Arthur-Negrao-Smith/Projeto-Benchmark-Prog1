{
 "cells": [
  {
   "cell_type": "markdown",
   "id": "0d1ac8ec",
   "metadata": {},
   "source": [
    "# Arquivo para manipulação dos dados"
   ]
  },
  {
   "cell_type": "markdown",
   "id": "30122797",
   "metadata": {},
   "source": [
    "## Atualizando o path do sistema"
   ]
  },
  {
   "cell_type": "code",
   "execution_count": null,
   "id": "c1ad1908",
   "metadata": {},
   "outputs": [],
   "source": [
    "import os\n",
    "import sys\n",
    "\n",
    "current_dir: str = os.path.abspath(\"../../..\")\n",
    "if current_dir not in sys.path:\n",
    "    sys.path.insert(0, current_dir)\n",
    "print(sys.path)\n"
   ]
  },
  {
   "cell_type": "markdown",
   "id": "70f34f25",
   "metadata": {},
   "source": [
    "## Importando as bibliotecas internas"
   ]
  },
  {
   "cell_type": "code",
   "execution_count": null,
   "id": "d443f590",
   "metadata": {},
   "outputs": [],
   "source": [
    "from src.python.libs.benchmark.data import (\n",
    "                                            FIRST_ORDER, SECOND_ORDER, THIRD_ORDER, FOURTH_ORDER, \n",
    "                                            FIRST_SIZE, SECOND_SIZE, THIRD_SIZE, FOURTH_SIZE,\n",
    "                                            BUBBLE_NAME, MERGE_NAME, QUICK_NAME,\n",
    "                                            PYTHON_LANG, C_LANG\n",
    "                                            )\n",
    "\n",
    "\n",
    "from src.python.libs.graphics.graphic_generator import TableData"
   ]
  },
  {
   "cell_type": "markdown",
   "id": "077c4b4c",
   "metadata": {},
   "source": [
    "## Importando as bibliotecas externas"
   ]
  },
  {
   "cell_type": "code",
   "execution_count": null,
   "id": "cca0c27e",
   "metadata": {},
   "outputs": [],
   "source": [
    "import pandas as pd"
   ]
  },
  {
   "cell_type": "markdown",
   "id": "610252db",
   "metadata": {},
   "source": [
    "## Definindo caminho para os resultados"
   ]
  },
  {
   "cell_type": "code",
   "execution_count": null,
   "id": "97025157",
   "metadata": {},
   "outputs": [],
   "source": [
    "RESULTS_PATH: str = \"../../results/data\""
   ]
  },
  {
   "cell_type": "markdown",
   "id": "517342c5",
   "metadata": {},
   "source": [
    "## Variáveis para a coleta dos dados salvos"
   ]
  },
  {
   "cell_type": "code",
   "execution_count": null,
   "id": "f3bbb67b",
   "metadata": {},
   "outputs": [],
   "source": [
    "table_data: TableData = TableData()\n",
    "\n",
    "size: int = FIRST_SIZE             # <-- Seleciona o tamanho do array/lista: FIRST_SIZE, SECOND_SIZE, THIRD_SIZE, FOURTH_SIZE\n",
    "order: str = FIRST_ORDER           # <-- Seleciona a ordem do array/lista: FIRST_ORDER, SECOND_ORDER, THIRD_ORDER, FOURTH_ORDER\n",
    "algorithm_name: str = MERGE_NAME   # <-- Seleciona o algoritimo: BUBBLE_NAME, MERGE_NAME ou QUICK_NAME\n",
    "language: str = PYTHON_LANG        # <-- Seleceiona a linguagem: PYTHON_LANG ou C_LANG"
   ]
  },
  {
   "cell_type": "markdown",
   "id": "ccb5540c",
   "metadata": {},
   "source": [
    "## Coletando os dados do csv"
   ]
  },
  {
   "cell_type": "code",
   "execution_count": null,
   "id": "ea818817",
   "metadata": {},
   "outputs": [],
   "source": [
    "table_data.read_csv(RESULTS_PATH, language=language, algorithm_name=algorithm_name)\n",
    "df: pd.DataFrame = table_data._data_dict[algorithm_name]"
   ]
  },
  {
   "cell_type": "markdown",
   "id": "de9144fb",
   "metadata": {},
   "source": [
    "## Transformando as colunas númericas de str para float"
   ]
  },
  {
   "cell_type": "code",
   "execution_count": null,
   "id": "7299dc3b",
   "metadata": {},
   "outputs": [],
   "source": [
    "df['Tempo de execução'] = pd.to_numeric(df[\"Tempo de execução\"], errors='coerce')\n",
    "df['Tamanho da Lista'] = pd.to_numeric(df[\"Tamanho da Lista\"], errors='coerce')\n",
    "df['Comparações'] = pd.to_numeric(df[\"Comparações\"], errors='coerce')\n",
    "df['Trocas'] = pd.to_numeric(df[\"Trocas\"], errors='coerce')\n",
    "df['Memória usada'] = pd.to_numeric(df[\"Memória usada\"], errors='coerce')"
   ]
  },
  {
   "cell_type": "markdown",
   "id": "d1fb6d0d",
   "metadata": {},
   "source": [
    "## Mostrando a tabela"
   ]
  },
  {
   "cell_type": "code",
   "execution_count": null,
   "id": "b23a044b",
   "metadata": {},
   "outputs": [],
   "source": [
    "display(df)"
   ]
  },
  {
   "cell_type": "markdown",
   "id": "42cc8d63",
   "metadata": {},
   "source": [
    "## Calculando as métricas desejadas"
   ]
  },
  {
   "cell_type": "code",
   "execution_count": null,
   "id": "c0822233",
   "metadata": {},
   "outputs": [],
   "source": [
    "print(\"Linguagem:\", language)\n",
    "print(\"Algoritmo:\", algorithm_name)\n",
    "print(\"Ordenação da list:\", order)\n",
    "print(\"Tamanho da lista:\", size)\n",
    "print(\"Tempo de execução:\", df[(df['Ordem dos Dados'] == order) & (df['Tamanho da Lista'] == size)]['Tempo de execução'].mean())\n",
    "print(\"Memória usada:\", df[(df['Ordem dos Dados'] == order) & (df['Tamanho da Lista'] == size)]['Memória usada'].mean())\n",
    "print(\"Comparações:\", df[(df['Ordem dos Dados'] == order) & (df['Tamanho da Lista'] == size)]['Comparações'].mean())\n",
    "print(\"Trocas:\", df[(df['Ordem dos Dados'] == order) & (df['Tamanho da Lista'] == size)]['Trocas'].mean())"
   ]
  }
 ],
 "metadata": {
  "kernelspec": {
   "display_name": "Projeto-Benchmark",
   "language": "python",
   "name": "python3"
  },
  "language_info": {
   "codemirror_mode": {
    "name": "ipython",
    "version": 3
   },
   "file_extension": ".py",
   "mimetype": "text/x-python",
   "name": "python",
   "nbconvert_exporter": "python",
   "pygments_lexer": "ipython3",
   "version": "3.12.9"
  }
 },
 "nbformat": 4,
 "nbformat_minor": 5
}
